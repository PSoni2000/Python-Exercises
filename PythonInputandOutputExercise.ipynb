{
  "nbformat": 4,
  "nbformat_minor": 0,
  "metadata": {
    "colab": {
      "provenance": [],
      "authorship_tag": "ABX9TyM0NvbaKHP16gT9zw1PQawy",
      "include_colab_link": true
    },
    "kernelspec": {
      "name": "python3",
      "display_name": "Python 3"
    },
    "language_info": {
      "name": "python"
    }
  },
  "cells": [
    {
      "cell_type": "markdown",
      "metadata": {
        "id": "view-in-github",
        "colab_type": "text"
      },
      "source": [
        "<a href=\"https://colab.research.google.com/github/PSoni2000/Python-Exercises/blob/main/PythonInputandOutputExercise.ipynb\" target=\"_parent\"><img src=\"https://colab.research.google.com/assets/colab-badge.svg\" alt=\"Open In Colab\"/></a>"
      ]
    },
    {
      "cell_type": "markdown",
      "source": [
        "**Exercise 1: Accept numbers from a user**\n",
        "\n",
        "\n",
        "---\n",
        "\n",
        "\n",
        "Write a program to accept two numbers from the user and calculate multiplication"
      ],
      "metadata": {
        "id": "BQrVGjR1ynyg"
      }
    },
    {
      "cell_type": "code",
      "execution_count": 36,
      "metadata": {
        "colab": {
          "base_uri": "https://localhost:8080/"
        },
        "id": "EKwm_sHvx7HG",
        "outputId": "05f4e3f5-1a8e-4260-9e22-da918d7098a3"
      },
      "outputs": [
        {
          "output_type": "stream",
          "name": "stdout",
          "text": [
            "Enter first number : 2\n",
            "Enter Second number : 3\n",
            "6\n"
          ]
        }
      ],
      "source": [
        "x = int(input(\"Enter first number : \"))\n",
        "y = int(input(\"Enter Second number : \"))\n",
        "print(x*y)"
      ]
    },
    {
      "cell_type": "markdown",
      "source": [
        "**Exercise 2: Display three string “Name”, “Is”, “James” as “Name \\*\\*Is\\*\\*James”**\n",
        "\n",
        "\n",
        "---\n",
        "\n",
        "\n",
        "Use the print() function to format the given words in the mentioned format. Display the ** separator between each string.\n",
        "\n",
        "Expected Output:\n",
        "\n",
        "For example: print('Name', 'Is', 'James') will display Name**Is**James"
      ],
      "metadata": {
        "id": "W_YIlzURzH75"
      }
    },
    {
      "cell_type": "code",
      "source": [
        "a = \"Name\"\n",
        "b = \"Is\"\n",
        "c = \"James\"\n",
        "\n",
        "print(a,b,c,sep=\"**\")"
      ],
      "metadata": {
        "colab": {
          "base_uri": "https://localhost:8080/"
        },
        "id": "uBtQlqhbyu-Q",
        "outputId": "d7f4a954-911d-4c99-d769-58bc9e0e9ea8"
      },
      "execution_count": 37,
      "outputs": [
        {
          "output_type": "stream",
          "name": "stdout",
          "text": [
            "Name**Is**James\n"
          ]
        }
      ]
    },
    {
      "cell_type": "markdown",
      "source": [
        "**Exercise 3: Convert Decimal number to octal using print() output formatting**\n",
        "\n",
        "\n",
        "---\n",
        "\n",
        "\n",
        "Given:\n",
        "\n",
        "num = 8\n",
        "Expected Output:\n",
        "\n",
        "The octal number of decimal number 8 is 10"
      ],
      "metadata": {
        "id": "Ju2BpGTX5WYG"
      }
    },
    {
      "cell_type": "code",
      "source": [
        "num = 8\n",
        "print('%o' % num)"
      ],
      "metadata": {
        "id": "dy1nS53-zsoP",
        "colab": {
          "base_uri": "https://localhost:8080/"
        },
        "outputId": "ea1140d7-9ba6-4932-92a1-710004a0da87"
      },
      "execution_count": 38,
      "outputs": [
        {
          "output_type": "stream",
          "name": "stdout",
          "text": [
            "10\n"
          ]
        }
      ]
    },
    {
      "cell_type": "markdown",
      "source": [
        "**Exercise 4: Display float number with 2 decimal places using print()**\n",
        "\n",
        "---\n",
        "\n",
        "\n",
        "Given:\n",
        "\n",
        "num = 458.541315\n",
        "Expected Output:\n",
        "\n",
        "458.54"
      ],
      "metadata": {
        "id": "QUuzxhZA5uT1"
      }
    },
    {
      "cell_type": "code",
      "source": [
        "num = 458.541315\n",
        "print('%.2f' % num)"
      ],
      "metadata": {
        "colab": {
          "base_uri": "https://localhost:8080/"
        },
        "id": "HDHEaYgM5zyX",
        "outputId": "c1cdeb18-8f98-4bde-c832-51187ccf8fe8"
      },
      "execution_count": 39,
      "outputs": [
        {
          "output_type": "stream",
          "name": "stdout",
          "text": [
            "458.54\n"
          ]
        }
      ]
    },
    {
      "cell_type": "markdown",
      "source": [
        "**Exercise 5: Accept a list of 5 float numbers as an input from the user**\n",
        "\n",
        "---\n",
        "\n",
        "\n",
        "Refer:\n",
        "\n",
        "Take list as a input in Python.\n",
        "Python list\n",
        "Expected Output:\n",
        "\n",
        "[78.6, 78.6, 85.3, 1.2, 3.5]"
      ],
      "metadata": {
        "id": "vER8Im9p6WyZ"
      }
    },
    {
      "cell_type": "code",
      "source": [
        "l = []\n",
        "for i in range(5):\n",
        "  l.append(float(input(f\"Enter number at location {i} : \")))\n",
        "print(l)"
      ],
      "metadata": {
        "colab": {
          "base_uri": "https://localhost:8080/"
        },
        "id": "dujO-Bcq6ZeX",
        "outputId": "16db94eb-b218-41e1-eac3-d27f7779d873"
      },
      "execution_count": 40,
      "outputs": [
        {
          "output_type": "stream",
          "name": "stdout",
          "text": [
            "Enter number at location 0 : 1.1\n",
            "Enter number at location 1 : 2.4\n",
            "Enter number at location 2 : 3.6\n",
            "Enter number at location 3 : 4\n",
            "Enter number at location 4 : 5.10\n",
            "[1.1, 2.4, 3.6, 4.0, 5.1]\n"
          ]
        }
      ]
    },
    {
      "cell_type": "markdown",
      "source": [
        "**Exercise 6: Write all content of a given file into a new file by skipping line number 5**\n",
        "\n",
        "---\n",
        "\n",
        "Given test.txt file:\n",
        "\n",
        "line1\n",
        "line2\n",
        "line3\n",
        "line4\n",
        "line5\n",
        "line6\n",
        "line7\n",
        "\n",
        "\n",
        "Expected Output: new_file.txt\n",
        "\n",
        "line1\n",
        "line2\n",
        "line3\n",
        "line4\n",
        "line6\n",
        "line7"
      ],
      "metadata": {
        "id": "3i9spNpL7WDX"
      }
    },
    {
      "cell_type": "code",
      "source": [
        "# read test.txt\n",
        "with open(\"test.txt\", \"r\") as fp:\n",
        "    # read all lines from a file\n",
        "    lines = fp.readlines()\n",
        "\n",
        "# open new file in write mode\n",
        "with open(\"new_file.txt\", \"w\") as fp:\n",
        "    count = 0\n",
        "    # iterate each lines from a test.txt\n",
        "    for line in lines:\n",
        "        # skip 5th lines\n",
        "        if count == 4:\n",
        "            count += 1\n",
        "            continue\n",
        "        else:\n",
        "            # write current line\n",
        "            fp.write(line)\n",
        "        # in each iteration reduce the count\n",
        "        count += 1"
      ],
      "metadata": {
        "id": "RtdforLE75XA"
      },
      "execution_count": null,
      "outputs": []
    },
    {
      "cell_type": "markdown",
      "source": [
        "**Exercise 7: Accept any three string from one input() call**\n",
        "\n",
        "---\n",
        "\n",
        "\n",
        "\n",
        "Write a program to take three names as input from a user in the single input() function call.\n",
        "\n",
        "Enter three string Emma Jessa Kelly\n",
        "Name1: Emma\n",
        "Name2: Jessa\n",
        "Name3: Kelly"
      ],
      "metadata": {
        "id": "P140nB5eFwfg"
      }
    },
    {
      "cell_type": "code",
      "source": [
        "s1, s2, s3 = input(\"Enter three strings : \").split()\n",
        "print(\"String 1 = \" + s1)\n",
        "print(\"String 2 = \" + s2)\n",
        "print(\"String 3 = \" + s3)"
      ],
      "metadata": {
        "colab": {
          "base_uri": "https://localhost:8080/"
        },
        "id": "vgDL0KXDF52f",
        "outputId": "c71509db-9d9c-48a6-d5d7-b88dc57d9315"
      },
      "execution_count": 42,
      "outputs": [
        {
          "output_type": "stream",
          "name": "stdout",
          "text": [
            "Enter three strings : Emma Jessa Kelly\n",
            "String 1 = Emma\n",
            "String 2 = Jessa\n",
            "String 3 = Kelly\n"
          ]
        }
      ]
    },
    {
      "cell_type": "markdown",
      "source": [
        "**Exercise 8: Format variables using a string.format() method.**\n",
        "\n",
        "---\n",
        "\n",
        "Write a program to use string.format() method to format the following three variables as per the expected output\n",
        "\n",
        "Given:\n",
        "\n",
        "totalMoney = 1000\n",
        "\n",
        "quantity = 3\n",
        "\n",
        "price = 450\n",
        "\n",
        "Expected Output:\n",
        "\n",
        "I have 1000 dollars so I can buy 3 football for 450.00 dollars."
      ],
      "metadata": {
        "id": "wF6AHj1iQpMQ"
      }
    },
    {
      "cell_type": "code",
      "source": [
        "totalMoney = 1000\n",
        "quantity = 3\n",
        "price = 450.123456\n",
        "\n",
        "print(\"I have {1} dollars so i can buy {0} football for {2:.2f} dollars\".format(quantity, totalMoney, price))"
      ],
      "metadata": {
        "colab": {
          "base_uri": "https://localhost:8080/"
        },
        "id": "pMGWZOq7QxMM",
        "outputId": "9a4a9b2f-3a7a-494d-a92d-ec3b72aa3a52"
      },
      "execution_count": 43,
      "outputs": [
        {
          "output_type": "stream",
          "name": "stdout",
          "text": [
            "I have 1000 dollars so i can buy 3 football for 450.12 dollars\n"
          ]
        }
      ]
    },
    {
      "cell_type": "markdown",
      "source": [
        "**Exercise 9: Check file is empty or not**\n",
        "\n",
        "---\n",
        "\n",
        "Write a program to check if the given file is empty or not"
      ],
      "metadata": {
        "id": "nL1S5HzcStjZ"
      }
    },
    {
      "cell_type": "code",
      "source": [
        "import os\n",
        "\n",
        "size = os.stat(\"test.txt\").st_size\n",
        "if size == 0:\n",
        "    print('file is empty')"
      ],
      "metadata": {
        "id": "fGmGVv6KRhlU"
      },
      "execution_count": null,
      "outputs": []
    },
    {
      "cell_type": "markdown",
      "source": [
        "**Exercise 10: Read line number 4 from the following file**\n",
        "\n",
        "---\n",
        "\n",
        "\n",
        "\n",
        "test.txt file:\n",
        "\n",
        "\n",
        "\n",
        "```\n",
        "line1\n",
        "line2\n",
        "line3\n",
        "line4\n",
        "line5\n",
        "line6\n",
        "line7\n",
        "```\n",
        "\n"
      ],
      "metadata": {
        "id": "6jB1aWqGS9Co"
      }
    },
    {
      "cell_type": "code",
      "source": [
        "# read file\n",
        "with open(\"test.txt\", \"r\") as fp:\n",
        "    # read all lines from a file\n",
        "    lines = fp.readlines()\n",
        "    # get line number 4\n",
        "    print(lines[3\\])"
      ],
      "metadata": {
        "id": "LvHGFqzwTfBU"
      },
      "execution_count": null,
      "outputs": []
    }
  ]
}