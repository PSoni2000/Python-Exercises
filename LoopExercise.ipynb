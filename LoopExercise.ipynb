{
  "nbformat": 4,
  "nbformat_minor": 0,
  "metadata": {
    "colab": {
      "provenance": [],
      "authorship_tag": "ABX9TyMVF+EzrAjn2DIXDOtk17lY",
      "include_colab_link": true
    },
    "kernelspec": {
      "name": "python3",
      "display_name": "Python 3"
    },
    "language_info": {
      "name": "python"
    }
  },
  "cells": [
    {
      "cell_type": "markdown",
      "metadata": {
        "id": "view-in-github",
        "colab_type": "text"
      },
      "source": [
        "<a href=\"https://colab.research.google.com/github/PSoni2000/Python-Exercises/blob/main/LoopExercise.ipynb\" target=\"_parent\"><img src=\"https://colab.research.google.com/assets/colab-badge.svg\" alt=\"Open In Colab\"/></a>"
      ]
    },
    {
      "cell_type": "markdown",
      "source": [
        "**Exercise 1: Print first 10 natural numbers using while loop**\n",
        "\n",
        "---\n",
        "\n",
        "\n",
        "\n",
        "Expected output:\n",
        "\n",
        "```\n",
        "1\n",
        "2\n",
        "3\n",
        "4\n",
        "5\n",
        "6\n",
        "7\n",
        "8\n",
        "9\n",
        "10\n",
        "```\n",
        "\n"
      ],
      "metadata": {
        "id": "sjFblrz-VU1L"
      }
    },
    {
      "cell_type": "code",
      "execution_count": null,
      "metadata": {
        "colab": {
          "base_uri": "https://localhost:8080/"
        },
        "id": "M9bxX3bbVIOJ",
        "outputId": "c8c43790-deb7-46da-befa-cff3951f6db9"
      },
      "outputs": [
        {
          "output_type": "stream",
          "name": "stdout",
          "text": [
            "1\n",
            "2\n",
            "3\n",
            "4\n",
            "5\n",
            "6\n",
            "7\n",
            "8\n",
            "9\n",
            "10\n"
          ]
        }
      ],
      "source": [
        "i = 1\n",
        "while i <= 10:\n",
        "  print(i)\n",
        "  i += 1"
      ]
    },
    {
      "cell_type": "markdown",
      "source": [
        "**Exercise 2: Print the following pattern**\n",
        "\n",
        "---\n",
        "\n",
        "\n",
        "Write a Python code to print the following number pattern using a loop.\n",
        "\n",
        "\n",
        "\n",
        "```\n",
        "1\n",
        "1 2\n",
        "1 2 3\n",
        "1 2 3 4\n",
        "1 2 3 4 5\n",
        "```\n",
        "\n"
      ],
      "metadata": {
        "id": "5OvfnBQBVyOR"
      }
    },
    {
      "cell_type": "code",
      "source": [
        "n = 5\n",
        "for i in range(1, n+1):\n",
        "  for j in range(1, i+1):\n",
        "    print(j, end=\" \")\n",
        "  print()"
      ],
      "metadata": {
        "colab": {
          "base_uri": "https://localhost:8080/"
        },
        "id": "xQI44QUaV9JP",
        "outputId": "11bf2a42-9f0e-4f3b-fd5c-dc4126c88231"
      },
      "execution_count": null,
      "outputs": [
        {
          "output_type": "stream",
          "name": "stdout",
          "text": [
            "1 \n",
            "1 2 \n",
            "1 2 3 \n",
            "1 2 3 4 \n",
            "1 2 3 4 5 \n"
          ]
        }
      ]
    },
    {
      "cell_type": "markdown",
      "source": [
        "**Exercise 3: Calculate sum of all numbers from 1 to a given number**\n",
        "\n",
        "---\n",
        "\n",
        "\n",
        "Write a Python program to accept a number from a user and calculate the sum of all numbers from 1 to a given number\n",
        "\n",
        "For example, if the user entered 10, the output should be 55 (1+2+3+4+5+6+7+8+9+10)\n",
        "\n",
        "Expected Output:\n",
        "\n",
        "Enter number 10\n",
        "Sum is:  55"
      ],
      "metadata": {
        "id": "y35ZDVGbWV2L"
      }
    },
    {
      "cell_type": "code",
      "source": [
        "num = 10\n",
        "sum = 0\n",
        "\n",
        "for i in range(1, num+1):\n",
        "  sum += i\n",
        "\n",
        "print(f\"Enter number {num} Sum is : {sum}\")"
      ],
      "metadata": {
        "colab": {
          "base_uri": "https://localhost:8080/"
        },
        "id": "HUHmtZaWWZDX",
        "outputId": "9b40b6fe-2ffa-44b6-b04d-dfb30e1cb37c"
      },
      "execution_count": null,
      "outputs": [
        {
          "output_type": "stream",
          "name": "stdout",
          "text": [
            "Enter number 10 Sum is : 55\n"
          ]
        }
      ]
    },
    {
      "cell_type": "markdown",
      "source": [
        "**Exercise 4: Print multiplication table of a given number**\n",
        "\n",
        "---\n",
        "\n",
        "\n",
        "Given:\n",
        "\n",
        "num = 2\n",
        "Expected output is:\n",
        "\n",
        "\n",
        "\n",
        "```\n",
        "2\n",
        "4\n",
        "6\n",
        "8\n",
        "10\n",
        "12\n",
        "14\n",
        "16\n",
        "18\n",
        "20\n",
        "```\n",
        "\n"
      ],
      "metadata": {
        "id": "8ehE-qdoXB2p"
      }
    },
    {
      "cell_type": "code",
      "source": [
        "num = 2\n",
        "\n",
        "for i in range(1,11):\n",
        "  print(i*num)"
      ],
      "metadata": {
        "colab": {
          "base_uri": "https://localhost:8080/"
        },
        "id": "XSFm_7U1XEqX",
        "outputId": "4f4f1880-d2d3-42f0-acd0-0e058d7fe446"
      },
      "execution_count": null,
      "outputs": [
        {
          "output_type": "stream",
          "name": "stdout",
          "text": [
            "2\n",
            "4\n",
            "6\n",
            "8\n",
            "10\n",
            "12\n",
            "14\n",
            "16\n",
            "18\n",
            "20\n"
          ]
        }
      ]
    },
    {
      "cell_type": "markdown",
      "source": [
        "**Exercise 5: Display numbers from a list using a loop**\n",
        "\n",
        "---\n",
        "\n",
        "\n",
        "Write a Python program to display only those numbers from a list that satisfy the following conditions\n",
        "\n",
        "The number must be divisible by five\n",
        "\n",
        "If the number is greater than 150, then skip it and move to the following number\n",
        "\n",
        "If the number is greater than 500, then stop the loop\n",
        "Given:\n",
        "\n",
        "numbers = [12, 75, 150, 180, 145, 525, 50]\n",
        "Expected output:\n",
        "\n",
        "\n",
        "\n",
        "```\n",
        "75\n",
        "150\n",
        "145\n",
        "```\n",
        "\n"
      ],
      "metadata": {
        "id": "zLdNbMRfXoG8"
      }
    },
    {
      "cell_type": "code",
      "source": [
        "n = [12, 75, 150, 180, 145, 525, 50]\n",
        "\n",
        "for i in n:\n",
        "  if(i > 500):\n",
        "    break\n",
        "  elif(i > 150):\n",
        "    continue\n",
        "  elif(i%5 == 0):\n",
        "    print(i)"
      ],
      "metadata": {
        "colab": {
          "base_uri": "https://localhost:8080/"
        },
        "id": "XJ4s2p13XU9E",
        "outputId": "d46a1416-7546-442a-822e-f37dcc689bc3"
      },
      "execution_count": null,
      "outputs": [
        {
          "output_type": "stream",
          "name": "stdout",
          "text": [
            "75\n",
            "150\n",
            "145\n"
          ]
        }
      ]
    },
    {
      "cell_type": "markdown",
      "source": [
        "**Exercise 6: Count the total number of digits in a number**\n",
        "\n",
        "---\n",
        "\n",
        "\n",
        "Write a Python program to count the total number of digits in a number using a while loop.\n",
        "\n",
        "For example, the number is 75869, so the output should be 5."
      ],
      "metadata": {
        "id": "UxLercHQYkrG"
      }
    },
    {
      "cell_type": "code",
      "source": [
        "num = 75869\n",
        "\n",
        "# using str\n",
        "print(len(str(num)))\n",
        "\n",
        "# using loop\n",
        "n = num\n",
        "count = 0\n",
        "while n != 0:\n",
        "  n = n // 10\n",
        "  count += 1\n",
        "print(count)"
      ],
      "metadata": {
        "colab": {
          "base_uri": "https://localhost:8080/"
        },
        "id": "jP0KAi2DYmdl",
        "outputId": "5cd038ae-5e3e-41df-c9b9-7cbd087c9a42"
      },
      "execution_count": null,
      "outputs": [
        {
          "output_type": "stream",
          "name": "stdout",
          "text": [
            "5\n",
            "5\n"
          ]
        }
      ]
    },
    {
      "cell_type": "markdown",
      "source": [
        "**Exercise 7: Print the following pattern**\n",
        "\n",
        "---\n",
        "\n",
        "\n",
        "Write a Python program to print the reverse number pattern using a for loop.\n",
        "\n",
        "```\n",
        "5 4 3 2 1\n",
        "4 3 2 1\n",
        "3 2 1\n",
        "2 1\n",
        "1\n",
        "```\n",
        "\n"
      ],
      "metadata": {
        "id": "jVZJlgvkbewO"
      }
    },
    {
      "cell_type": "code",
      "source": [
        "n = 5\n",
        "for i in range(n,0,-1):\n",
        "  for j in range(i,0,-1):\n",
        "    print(j,end=\" \")\n",
        "  print()"
      ],
      "metadata": {
        "colab": {
          "base_uri": "https://localhost:8080/"
        },
        "id": "zZAJ-7fxbi5W",
        "outputId": "2d2f9ea5-3b68-4052-b47e-c99b123d06b1"
      },
      "execution_count": null,
      "outputs": [
        {
          "output_type": "stream",
          "name": "stdout",
          "text": [
            "5 4 3 2 1 \n",
            "4 3 2 1 \n",
            "3 2 1 \n",
            "2 1 \n",
            "1 \n"
          ]
        }
      ]
    },
    {
      "cell_type": "markdown",
      "source": [
        "**Exercise 8: Print list in reverse order using a loop**\n",
        "\n",
        "---\n",
        "\n",
        "\n",
        "Given:\n",
        "\n",
        "list1 = [10, 20, 30, 40, 50]\n",
        "Expected output:\n",
        "\n",
        "50\n",
        "40\n",
        "30\n",
        "20\n",
        "10"
      ],
      "metadata": {
        "id": "A8IV6pSJcMDz"
      }
    },
    {
      "cell_type": "code",
      "source": [
        "# using loops\n",
        "l = [10, 20, 30, 40, 50]\n",
        "size = len(l) - 1\n",
        "for i in range(size, -1, -1):\n",
        "    print(l[i])\n",
        "\n",
        "# using reversed()\n",
        "l2 = [10, 20, 30, 40, 50]\n",
        "l2 = reversed(l2)\n",
        "\n",
        "for i in l2:\n",
        "  print(i)"
      ],
      "metadata": {
        "colab": {
          "base_uri": "https://localhost:8080/"
        },
        "id": "IBaun1CWcWMe",
        "outputId": "31069651-4c9b-4368-d131-e4579abd4f3e"
      },
      "execution_count": null,
      "outputs": [
        {
          "output_type": "stream",
          "name": "stdout",
          "text": [
            "50\n",
            "40\n",
            "30\n",
            "20\n",
            "10\n",
            "50\n",
            "40\n",
            "30\n",
            "20\n",
            "10\n"
          ]
        }
      ]
    },
    {
      "cell_type": "markdown",
      "source": [
        "**Exercise 9: Display numbers from -10 to -1 using for loop**\n",
        "\n",
        "---\n",
        "\n",
        "\n",
        "Expected output:\n",
        "\n",
        "\n",
        "```\n",
        "-10\n",
        "-9\n",
        "-8\n",
        "-7\n",
        "-6\n",
        "-5\n",
        "-4\n",
        "-3\n",
        "-2\n",
        "-1\n",
        "\n",
        "```\n",
        "\n"
      ],
      "metadata": {
        "id": "eWsFYDs8dCWR"
      }
    },
    {
      "cell_type": "code",
      "source": [
        "for i in range(-10, 0, 1):\n",
        "  print(i)"
      ],
      "metadata": {
        "colab": {
          "base_uri": "https://localhost:8080/"
        },
        "id": "kpeiy_ZGeI_n",
        "outputId": "1bdea7a0-e304-4cad-f995-2d559d43bda1"
      },
      "execution_count": null,
      "outputs": [
        {
          "output_type": "stream",
          "name": "stdout",
          "text": [
            "-10\n",
            "-9\n",
            "-8\n",
            "-7\n",
            "-6\n",
            "-5\n",
            "-4\n",
            "-3\n",
            "-2\n",
            "-1\n"
          ]
        }
      ]
    },
    {
      "cell_type": "markdown",
      "source": [
        "**Exercise 10: Display a message “Done” after the successful execution of the for loop**\n",
        "\n",
        "---\n",
        "\n",
        "\n",
        "For example, the following loop will execute without any error.\n",
        "\n",
        "Given:\n",
        "\n",
        "for i in range(5):\n",
        "    print(i)\n",
        "Expected output:\n",
        "\n",
        "\n",
        "\n",
        "```\n",
        "0\n",
        "1\n",
        "2\n",
        "3\n",
        "4\n",
        "Done!\n",
        "```\n",
        "\n"
      ],
      "metadata": {
        "id": "YNe-eMWyeZns"
      }
    },
    {
      "cell_type": "code",
      "source": [
        "for i in range(5):\n",
        "  print(i)\n",
        "else:\n",
        "  print(\"Done!\")"
      ],
      "metadata": {
        "colab": {
          "base_uri": "https://localhost:8080/"
        },
        "id": "xaUNLOIcegL6",
        "outputId": "840cecdb-fdb6-4bf4-a026-a6e59b3ca293"
      },
      "execution_count": null,
      "outputs": [
        {
          "output_type": "stream",
          "name": "stdout",
          "text": [
            "0\n",
            "1\n",
            "2\n",
            "3\n",
            "4\n",
            "Done!\n"
          ]
        }
      ]
    },
    {
      "cell_type": "markdown",
      "source": [
        "**Exercise 11: Print all prime numbers within a range**\n",
        "\n",
        "---\n",
        "\n",
        "\n",
        "Note: A Prime Number is a number that cannot be made by multiplying other whole numbers. A prime number is a natural number greater than 1 that is not a product of two smaller natural numbers.\n",
        "\n",
        "Examples:\n",
        "\n",
        "6 is not a prime number because it can be made by 2×3 = 6\n",
        "37 is a prime number because no other whole numbers multiply to make it.\n",
        "Given:\n",
        "\n",
        "# range\n",
        "start = 25\n",
        "end = 50\n",
        "Expected output:\n",
        "\n",
        "Prime numbers between 25 and 50 are:\n",
        "\n",
        "\n",
        "```\n",
        "29\n",
        "31\n",
        "37\n",
        "41\n",
        "43\n",
        "47\n",
        "```\n",
        "\n"
      ],
      "metadata": {
        "id": "AClp0WPQexAX"
      }
    },
    {
      "cell_type": "code",
      "source": [
        "def isPrime(n):\n",
        "  f = True\n",
        "  for i in range(int(n/2),1,-1):\n",
        "    if n%i == 0:\n",
        "      f = False\n",
        "      break\n",
        "  return f\n",
        "\n",
        "start = 25\n",
        "end = 50\n",
        "\n",
        "for i in range(start, end,1):\n",
        "  if isPrime(i):\n",
        "    print(i)"
      ],
      "metadata": {
        "colab": {
          "base_uri": "https://localhost:8080/"
        },
        "id": "JQ5o26LLe33D",
        "outputId": "9fe834a1-0188-4a65-8c11-c131a690e6d5"
      },
      "execution_count": null,
      "outputs": [
        {
          "output_type": "stream",
          "name": "stdout",
          "text": [
            "29\n",
            "31\n",
            "37\n",
            "41\n",
            "43\n",
            "47\n"
          ]
        }
      ]
    },
    {
      "cell_type": "markdown",
      "source": [
        "**Exercise 12: Display Fibonacci series up to 10 terms**\n",
        "\n",
        "---\n",
        "\n",
        "\n",
        "Have you ever wondered about the Fibonacci Sequence? It’s a series of numbers in which the next number is found by adding up the two numbers before it. The first two numbers are 0 and 1.\n",
        "\n",
        "For example, 0, 1, 1, 2, 3, 5, 8, 13, 21. The next number in this series is 13 + 21 = 34.\n",
        "\n",
        "Expected output:\n",
        "\n",
        "Fibonacci sequence:\n",
        "0  1  1  2  3  5  8  13  21  34"
      ],
      "metadata": {
        "id": "Wdf1eoDygPbg"
      }
    },
    {
      "cell_type": "code",
      "source": [
        "n1 = 0\n",
        "n2 = 1\n",
        "\n",
        "for i in range(10):\n",
        "  print(n1, end=\" \")\n",
        "  temp = n1 + n2\n",
        "  n1 = n2\n",
        "  n2 = temp"
      ],
      "metadata": {
        "colab": {
          "base_uri": "https://localhost:8080/"
        },
        "id": "r0R0FXOngYDx",
        "outputId": "b1a4edcc-d82c-4640-9883-26180c029419"
      },
      "execution_count": null,
      "outputs": [
        {
          "output_type": "stream",
          "name": "stdout",
          "text": [
            "0 1 1 2 3 5 8 13 21 34 "
          ]
        }
      ]
    },
    {
      "cell_type": "markdown",
      "source": [
        "**Exercise 13: Find the factorial of a given number**\n",
        "\n",
        "---\n",
        "\n",
        "\n",
        "Write a Python program to use for loop to find the factorial of a given number.\n",
        "\n",
        "The factorial (symbol: !) means multiplying all numbers from the chosen number down to 1.\n",
        "\n",
        "For example, a factorial of 5! is 5 × 4 × 3 × 2 × 1 = 120\n",
        "\n",
        "Expected output:\n",
        "\n",
        "120"
      ],
      "metadata": {
        "id": "S1gWWKNGhToN"
      }
    },
    {
      "cell_type": "code",
      "source": [
        "n = 5\n",
        "f = 1\n",
        "\n",
        "if n < 0:\n",
        "  print(\"Factorial does not exist\")\n",
        "elif n == 0:\n",
        "  print(0)\n",
        "else:\n",
        "  for i in range(n,0,-1):\n",
        "    f = f * i\n",
        "print(f)"
      ],
      "metadata": {
        "colab": {
          "base_uri": "https://localhost:8080/"
        },
        "id": "oLD1j3B-hVW4",
        "outputId": "c506973c-d3ec-4ece-fb76-14dea63d8b6b"
      },
      "execution_count": null,
      "outputs": [
        {
          "output_type": "stream",
          "name": "stdout",
          "text": [
            "120\n"
          ]
        }
      ]
    },
    {
      "cell_type": "markdown",
      "source": [
        "**Exercise 14: Reverse a integer number**\n",
        "\n",
        "---\n",
        "\n",
        "\n",
        "Given:\n",
        "\n",
        "76542\n",
        "\n",
        "Expected output:\n",
        "\n",
        "24567"
      ],
      "metadata": {
        "id": "Gsk3Tx2EiDi0"
      }
    },
    {
      "cell_type": "code",
      "source": [
        "num = 76542\n",
        "reverse_number = 0\n",
        "print(\"Given Number \", num)\n",
        "while num > 0:\n",
        "    reminder = num % 10\n",
        "    reverse_number = (reverse_number * 10) + reminder\n",
        "    num = num // 10\n",
        "print(\"Revere Number \", reverse_number)"
      ],
      "metadata": {
        "id": "qS0RVQv4iFAk"
      },
      "execution_count": null,
      "outputs": []
    },
    {
      "cell_type": "markdown",
      "source": [
        "**Exercise 15: Print elements from a given list present at odd index positions**\n",
        "Given:\n",
        "\n",
        "my_list = [10, 20, 30, 40, 50, 60, 70, 80, 90, 100]\n",
        "Note: The list index always starts at 0\n",
        "\n",
        "Expected output:\n",
        "\n",
        "20 40 60 80 100"
      ],
      "metadata": {
        "id": "iY67yrd4iYpp"
      }
    },
    {
      "cell_type": "code",
      "source": [
        "l = [10, 20, 30, 40, 50, 60, 70, 80, 90, 100]\n",
        "for i in l[1::2]:\n",
        "  print(i)"
      ],
      "metadata": {
        "colab": {
          "base_uri": "https://localhost:8080/"
        },
        "id": "xSv7tPZnifjq",
        "outputId": "ba9fdd32-b097-4c1f-dd7e-cf68668a924b"
      },
      "execution_count": null,
      "outputs": [
        {
          "output_type": "stream",
          "name": "stdout",
          "text": [
            "20\n",
            "40\n",
            "60\n",
            "80\n",
            "100\n"
          ]
        }
      ]
    },
    {
      "cell_type": "markdown",
      "source": [
        "**Exercise 16: Calculate the cube of all numbers from 1 to a given number**\n",
        "\n",
        "---\n",
        "\n",
        "\n",
        "Write a Python program to print the cube of all numbers from 1 to a given number\n",
        "\n",
        "Given:\n",
        "\n",
        "input_number = 6\n",
        "\n",
        "Expected output:\n",
        "\n",
        "\n",
        "\n",
        "```\n",
        "Current Number is : 1  and the cube is 1\n",
        "Current Number is : 2  and the cube is 8\n",
        "Current Number is : 3  and the cube is 27\n",
        "Current Number is : 4  and the cube is 64\n",
        "Current Number is : 5  and the cube is 125\n",
        "Current Number is : 6  and the cube is 216\n",
        "```\n",
        "\n"
      ],
      "metadata": {
        "id": "a8UjdfVzkFoy"
      }
    },
    {
      "cell_type": "code",
      "source": [
        "n = 6\n",
        "\n",
        "for i in range(1, n+1):\n",
        "  print(f\"Current Number is : {i} and the cube is {i**3}\")"
      ],
      "metadata": {
        "colab": {
          "base_uri": "https://localhost:8080/"
        },
        "id": "pSoytYB6kOHz",
        "outputId": "20976bdf-ec13-4ec5-f3ce-99768c26b0ba"
      },
      "execution_count": null,
      "outputs": [
        {
          "output_type": "stream",
          "name": "stdout",
          "text": [
            "Current Number is : 1 and the cube is 1\n",
            "Current Number is : 2 and the cube is 8\n",
            "Current Number is : 3 and the cube is 27\n",
            "Current Number is : 4 and the cube is 64\n",
            "Current Number is : 5 and the cube is 125\n",
            "Current Number is : 6 and the cube is 216\n"
          ]
        }
      ]
    },
    {
      "cell_type": "markdown",
      "source": [
        "**Exercise 17: Find the sum of the series up to n terms**\n",
        "\n",
        "---\n",
        "\n",
        "\n",
        "Write a program to calculate the sum of series up to n terms. For example, if n = 5 the series will become 2 + 22 + 222 + 2222 + 22222 = 24690\n",
        "\n",
        "Given:\n",
        "\n",
        "number of terms\n",
        "n = 5\n",
        "Expected output:\n",
        "\n",
        "24690"
      ],
      "metadata": {
        "id": "0PBcrqpDkhYL"
      }
    },
    {
      "cell_type": "code",
      "source": [
        "n = 5\n",
        "twos = 0\n",
        "sum = 0\n",
        "\n",
        "if n <= 0:\n",
        "  print(\"0\")\n",
        "else:\n",
        "  for i in range(5):\n",
        "    twos = twos*10 + 2\n",
        "    sum += twos\n",
        "  print(sum)"
      ],
      "metadata": {
        "colab": {
          "base_uri": "https://localhost:8080/"
        },
        "id": "O8HxN5q8kgnw",
        "outputId": "0077ef1a-282f-45c9-d344-048c7628bbc2"
      },
      "execution_count": null,
      "outputs": [
        {
          "output_type": "stream",
          "name": "stdout",
          "text": [
            "24690\n"
          ]
        }
      ]
    },
    {
      "cell_type": "markdown",
      "source": [
        "**Exercise 18: Print the following pattern**\n",
        "\n",
        "---\n",
        "\n",
        "\n",
        "Write a program to print the following start pattern using the for loop\n",
        "\n",
        "\n",
        "\n",
        "```\n",
        "*\n",
        "* *\n",
        "* * *\n",
        "* * * *\n",
        "* * * * *\n",
        "* * * *\n",
        "* * *\n",
        "* *\n",
        "*\n",
        "```\n",
        "\n"
      ],
      "metadata": {
        "id": "tGGafDxKmDs8"
      }
    },
    {
      "cell_type": "code",
      "source": [
        "rows = 5\n",
        "for i in range(0, rows):\n",
        "    for j in range(0, i + 1):\n",
        "        print(\"*\", end=' ')\n",
        "    print(\"\\r\")\n",
        "\n",
        "for i in range(rows, 0, -1):\n",
        "    for j in range(0, i - 1):\n",
        "        print(\"*\", end=' ')\n",
        "    print(\"\\r\")"
      ],
      "metadata": {
        "colab": {
          "base_uri": "https://localhost:8080/"
        },
        "id": "2s6DL4tsmH26",
        "outputId": "a5404d96-22a4-4e34-8758-1755120ba4be"
      },
      "execution_count": null,
      "outputs": [
        {
          "output_type": "stream",
          "name": "stdout",
          "text": [
            "* \r\n",
            "* * \r\n",
            "* * * \r\n",
            "* * * * \r\n",
            "* * * * * \r\n",
            "* * * * \r\n",
            "* * * \r\n",
            "* * \r\n",
            "* \r\n",
            "\r\n"
          ]
        }
      ]
    }
  ]
}