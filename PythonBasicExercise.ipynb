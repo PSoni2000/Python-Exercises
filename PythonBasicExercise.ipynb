{
  "cells": [
    {
      "cell_type": "markdown",
      "metadata": {
        "id": "view-in-github",
        "colab_type": "text"
      },
      "source": [
        "<a href=\"https://colab.research.google.com/github/PSoni2000/Python-Exercises/blob/main/PythonBasicExercise.ipynb\" target=\"_parent\"><img src=\"https://colab.research.google.com/assets/colab-badge.svg\" alt=\"Open In Colab\"/></a>"
      ]
    },
    {
      "cell_type": "markdown",
      "metadata": {
        "id": "ro-gwoOFhQH5"
      },
      "source": [
        "**Exercise 1: Calculate the multiplication and sum of two numbers**\n",
        "Given two integer numbers, write a Python code to return their product only if the product is equal to or lower than 1000. Otherwise, return their sum.\n",
        "\n",
        "\n",
        "---\n",
        "\n",
        "\n",
        "Given 1:\n",
        "\n",
        "number1 = 20\n",
        "number2 = 30\n",
        "Expected Output:\n",
        "\n",
        "The result is 600\n",
        "\n",
        "Given 2:\n",
        "\n",
        "number1 = 40\n",
        "number2 = 30\n",
        "Expected Output:\n",
        "\n",
        "The result is 70"
      ]
    },
    {
      "cell_type": "code",
      "execution_count": 49,
      "metadata": {
        "colab": {
          "base_uri": "https://localhost:8080/"
        },
        "id": "menNTRCOhQH-",
        "outputId": "cb9474b4-c121-4a1a-9f03-b871efff5107"
      },
      "outputs": [
        {
          "output_type": "stream",
          "name": "stdout",
          "text": [
            "70\n"
          ]
        }
      ],
      "source": [
        "n1 = 40\n",
        "n2 = 30\n",
        "\n",
        "print(n1*n2) if n1*n2 < 1000 else print(n1+n2)"
      ]
    },
    {
      "cell_type": "markdown",
      "metadata": {
        "id": "0o-dwYs1hQIC"
      },
      "source": [
        "**Exercise 2: Print the Sum of a Current Number and a Previous number**\n",
        "Write a Python code to iterate the first 10 numbers, and in each iteration, print the sum of the current and previous number.\n",
        "\n",
        "\n",
        "---\n",
        "\n",
        "\n",
        "Expected Output:\n",
        "\n",
        "Printing current and previous number sum in a range(10)\n",
        "Current Number 0 Previous Number  0  Sum:  0\n",
        "Current Number 1 Previous Number  0  Sum:  1\n",
        "Current Number 2 Previous Number  1  Sum:  3\n",
        "Current Number 3 Previous Number  2  Sum:  5\n",
        "Current Number 4 Previous Number  3  Sum:  7\n",
        "Current Number 5 Previous Number  4  Sum:  9\n",
        "Current Number 6 Previous Number  5  Sum:  11\n",
        "Current Number 7 Previous Number  6  Sum:  13\n",
        "Current Number 8 Previous Number  7  Sum:  15\n",
        "Current Number 9 Previous Number  8  Sum:  17"
      ]
    },
    {
      "cell_type": "code",
      "execution_count": 50,
      "metadata": {
        "colab": {
          "base_uri": "https://localhost:8080/"
        },
        "id": "Xag5c5CrhQIE",
        "outputId": "f6cc50c9-9050-4dd6-d3ed-ad209f0a1d9b"
      },
      "outputs": [
        {
          "output_type": "stream",
          "name": "stdout",
          "text": [
            "Current Number 0 Previous Number 0 Sum: 0\n",
            "Current Number 1 Previous Number 0 Sum: 1\n",
            "Current Number 2 Previous Number 1 Sum: 3\n",
            "Current Number 3 Previous Number 2 Sum: 5\n",
            "Current Number 4 Previous Number 3 Sum: 7\n",
            "Current Number 5 Previous Number 4 Sum: 9\n",
            "Current Number 6 Previous Number 5 Sum: 11\n",
            "Current Number 7 Previous Number 6 Sum: 13\n",
            "Current Number 8 Previous Number 7 Sum: 15\n",
            "Current Number 9 Previous Number 8 Sum: 17\n"
          ]
        }
      ],
      "source": [
        "prev = 0\n",
        "for i in range(0, 10):\n",
        "    print(f\"Current Number {i} Previous Number {prev} Sum: {i+prev}\")\n",
        "    prev = i"
      ]
    },
    {
      "cell_type": "markdown",
      "metadata": {
        "id": "Z1PuAx1YhQIG"
      },
      "source": [
        "**Exercise 3: Print characters present at an even index number**\n",
        "Write a Python code to accept a string from the user and display characters present at an even index number.\n",
        "\n",
        "\n",
        "---\n",
        "\n",
        "\n",
        "For example, str = \"PYnative\". so your code should display ‘P’, ‘n’, ‘t’, ‘v’.\n",
        "\n",
        "Expected Output:\n",
        "\n",
        "Orginal String is  PYnative\n",
        "Printing only even index chars\n",
        "P\n",
        "n\n",
        "t\n",
        "v"
      ]
    },
    {
      "cell_type": "code",
      "execution_count": 51,
      "metadata": {
        "colab": {
          "base_uri": "https://localhost:8080/"
        },
        "id": "O4_LTCfPhQII",
        "outputId": "a12f0d11-f8f7-4213-f0b5-6541bcc60fc1"
      },
      "outputs": [
        {
          "output_type": "stream",
          "name": "stdout",
          "text": [
            "P\n",
            "n\n",
            "t\n",
            "v\n"
          ]
        }
      ],
      "source": [
        "s = \"PYnative\"\n",
        "for i in s[::2]:\n",
        "    print(i)"
      ]
    },
    {
      "cell_type": "markdown",
      "metadata": {
        "id": "a_CeMoUahQIK"
      },
      "source": [
        "**Exercise 4: Remove first n characters from a string**\n",
        "Write a Python code to remove characters from a string from 0 to n and return a new string.\n",
        "\n",
        "\n",
        "---\n",
        "\n",
        "\n",
        "For Example:\n",
        "\n",
        "remove_chars(\"PYnative\", 4) so output must be tive. Here, you need to remove the first four characters from a string.\n",
        "\n",
        "remove_chars(\"PYnative\", 2) so output must be native. Here, you need to remove the first two characters from a string.\n",
        "\n",
        "Note: n must be less than the length of the string."
      ]
    },
    {
      "cell_type": "code",
      "source": [
        "def remove_char(s,n):\n",
        "  print(s[n:])\n",
        "\n",
        "remove_char(\"PYnative\", 4)\n",
        "remove_char(\"PYnative\", 2)"
      ],
      "metadata": {
        "colab": {
          "base_uri": "https://localhost:8080/"
        },
        "id": "H7LBNf4Zh7y6",
        "outputId": "9f714da5-75ca-40ba-8bcc-668e9371d513"
      },
      "execution_count": 52,
      "outputs": [
        {
          "output_type": "stream",
          "name": "stdout",
          "text": [
            "tive\n",
            "native\n"
          ]
        }
      ]
    },
    {
      "cell_type": "markdown",
      "source": [
        "**Exercise 5: Check if the first and last numbers of a list are the same**\n",
        "Write a code to return True if the list’s first and last numbers are the same. If the numbers are different, return False.\n",
        "\n",
        "\n",
        "---\n",
        "\n",
        "\n",
        "Given:\n",
        "\n",
        "numbers_x = [10, 20, 30, 40, 10]\n",
        "numbers_y = [75, 65, 35, 75, 30]\n",
        "Expected Output:\n",
        "\n",
        "Given list: [10, 20, 30, 40, 10]\n",
        "result is True\n",
        "\n",
        "numbers_y = [75, 65, 35, 75, 30]\n",
        "result is False"
      ],
      "metadata": {
        "id": "p-4Rr6zvi1DT"
      }
    },
    {
      "cell_type": "code",
      "source": [
        "def check_same(l):\n",
        "  if l[0] == l[-1]:\n",
        "    print(l, True)\n",
        "  else:\n",
        "    print(l,False)\n",
        "\n",
        "\n",
        "x = [10, 20, 30, 40, 10]\n",
        "y = [75, 65, 35, 75, 30]\n",
        "\n",
        "check_same(x)\n",
        "check_same(y)\n"
      ],
      "metadata": {
        "colab": {
          "base_uri": "https://localhost:8080/"
        },
        "id": "Yufa6TfzjCb2",
        "outputId": "6ac25374-113a-4e98-e91b-7cfa6e15cbc0"
      },
      "execution_count": 53,
      "outputs": [
        {
          "output_type": "stream",
          "name": "stdout",
          "text": [
            "[10, 20, 30, 40, 10] True\n",
            "[75, 65, 35, 75, 30] False\n"
          ]
        }
      ]
    },
    {
      "cell_type": "markdown",
      "source": [
        "**Display numbers divisible by 5**\n",
        "Write a Python code to display numbers from a list divisible by 5\n",
        "\n",
        "\n",
        "---\n",
        "\n",
        "\n",
        "Expected Output:\n",
        "\n",
        "Given list is  [10, 20, 33, 46, 55]\n",
        "Divisible by 5\n",
        "10\n",
        "20\n",
        "55"
      ],
      "metadata": {
        "id": "9t2wM7dujBug"
      }
    },
    {
      "cell_type": "code",
      "source": [
        "l = [10, 20, 33, 46, 55]\n",
        "for i in l:\n",
        "  if i % 5 == 0:\n",
        "    print(i)"
      ],
      "metadata": {
        "colab": {
          "base_uri": "https://localhost:8080/"
        },
        "id": "MA-ssg7hj8e9",
        "outputId": "407a4c92-8b1a-4807-80c4-8daae47a058b"
      },
      "execution_count": 54,
      "outputs": [
        {
          "output_type": "stream",
          "name": "stdout",
          "text": [
            "10\n",
            "20\n",
            "55\n"
          ]
        }
      ]
    },
    {
      "cell_type": "markdown",
      "source": [
        "**Exercise 7: Find the number of occurrences of a substring in a string**\n",
        "Write a Python code to find how often the substring “Emma” appears in the given string.\n",
        "\n",
        "\n",
        "---\n",
        "\n",
        "\n",
        "Given:\n",
        "\n",
        "str_x = \"Emma is good developer. Emma is a writer\"\n",
        "Expected Output:\n",
        "\n",
        "Emma appeared 2 times"
      ],
      "metadata": {
        "id": "HEKPClZ5lPvy"
      }
    },
    {
      "cell_type": "code",
      "source": [
        "s = \"Emma is good developer. Emma is a writer\"\n",
        "print(f\"Emma appeared {s.count('Emma')} times\")"
      ],
      "metadata": {
        "colab": {
          "base_uri": "https://localhost:8080/"
        },
        "id": "ekMIiC8tlWgE",
        "outputId": "4aab13f2-a5e5-4ace-a495-89bdd1815471"
      },
      "execution_count": 55,
      "outputs": [
        {
          "output_type": "stream",
          "name": "stdout",
          "text": [
            "Emma appeared 2 times\n"
          ]
        }
      ]
    },
    {
      "cell_type": "markdown",
      "source": [
        "Exercise 8: Print the following pattern\n",
        "\n",
        "\n",
        "---\n",
        "\n",
        "```\n",
        "1\n",
        "2 2\n",
        "3 3 3\n",
        "4 4 4 4\n",
        "5 5 5 5 5\n",
        "```\n"
      ],
      "metadata": {
        "id": "vnVXPDevmKoP"
      }
    },
    {
      "cell_type": "code",
      "source": [
        "ptr_len = 5\n",
        "\n",
        "for i in range(ptr_len +1):\n",
        "  for j in range(i):\n",
        "    print(i, end = ' ')\n",
        "  print()"
      ],
      "metadata": {
        "colab": {
          "base_uri": "https://localhost:8080/"
        },
        "id": "ZdQ31cuYliJf",
        "outputId": "4f4ba68f-a8b2-401c-f7b9-873842daea9c"
      },
      "execution_count": 56,
      "outputs": [
        {
          "output_type": "stream",
          "name": "stdout",
          "text": [
            "\n",
            "1 \n",
            "2 2 \n",
            "3 3 3 \n",
            "4 4 4 4 \n",
            "5 5 5 5 5 \n"
          ]
        }
      ]
    },
    {
      "cell_type": "markdown",
      "source": [
        "**Exercise 9: Check Palindrome Number**\n",
        "\n",
        "\n",
        "---\n",
        "\n",
        "\n",
        "Write a Python code to check if the given number is palindrome. A palindrome number is a number that is the same after reverse. For example, 545 is the palindrome number.\n",
        "\n",
        "Expected Output:\n",
        "\n",
        "original number 121\n",
        "Yes. given number is palindrome number\n",
        "\n",
        "original number 125\n",
        "No. given number is not palindrome number"
      ],
      "metadata": {
        "id": "dc9LcDpqnGZQ"
      }
    },
    {
      "cell_type": "code",
      "source": [
        "def check_palendrome(x):\n",
        "  r = int(str(x)[::-1])\n",
        "  if x == r:\n",
        "    print(\"Yes\")\n",
        "  else:\n",
        "    print(\"no\")\n",
        "\n",
        "check_palendrome(121)\n",
        "check_palendrome(125)"
      ],
      "metadata": {
        "colab": {
          "base_uri": "https://localhost:8080/"
        },
        "id": "W71Xkt-Pnr3A",
        "outputId": "79d90437-b115-421b-c1a7-dad551845f76"
      },
      "execution_count": 57,
      "outputs": [
        {
          "output_type": "stream",
          "name": "stdout",
          "text": [
            "Yes\n",
            "no\n"
          ]
        }
      ]
    },
    {
      "cell_type": "markdown",
      "source": [
        "**Exercise 10: Merge two lists using the following condition**\n",
        "\n",
        "Given two lists of numbers, write a Python code to create a new list such that the latest list should contain odd numbers from the first list and even numbers from the second list.\n",
        "\n",
        "\n",
        "---\n",
        "\n",
        "\n",
        "Given:\n",
        "\n",
        "list1 = [10, 20, 25, 30, 35]\n",
        "list2 = [40, 45, 60, 75, 90]\n",
        "Expected Output:\n",
        "\n",
        "result list: [25, 35, 40, 60, 90]"
      ],
      "metadata": {
        "id": "wnE87NLborxw"
      }
    },
    {
      "cell_type": "code",
      "source": [
        "list1 = [10, 20, 25, 30, 35]\n",
        "list2 = [40, 45, 60, 75, 90]\n",
        "\n",
        "print([i for i in list1 if i%2 != 0] + [j for j in list2 if j %2 == 0])"
      ],
      "metadata": {
        "colab": {
          "base_uri": "https://localhost:8080/"
        },
        "id": "AoqFGr84owgn",
        "outputId": "62c26c1b-2567-4cd3-db2a-abcfae748cd7"
      },
      "execution_count": 58,
      "outputs": [
        {
          "output_type": "stream",
          "name": "stdout",
          "text": [
            "[25, 35, 40, 60, 90]\n"
          ]
        }
      ]
    },
    {
      "cell_type": "markdown",
      "source": [
        "**Exercise 11: Get each digit from a number in the reverse order.**\n",
        "\n",
        "\n",
        "---\n",
        "\n",
        "\n",
        "For example, If the given integer number is 7536, the output shall be “6 3 5 7“, with a space separating the digits."
      ],
      "metadata": {
        "id": "YpIW9XakpzwJ"
      }
    },
    {
      "cell_type": "code",
      "source": [
        "n = 7536\n",
        "for i in str(n)[::-1]:\n",
        "  print(i, end=\" \")"
      ],
      "metadata": {
        "colab": {
          "base_uri": "https://localhost:8080/"
        },
        "id": "FBolZAwgp2pc",
        "outputId": "6eb7e800-32d1-49c0-dc81-2d649775ae75"
      },
      "execution_count": 59,
      "outputs": [
        {
          "output_type": "stream",
          "name": "stdout",
          "text": [
            "6 3 5 7 "
          ]
        }
      ]
    },
    {
      "cell_type": "markdown",
      "source": [
        "**Exercise 12: Calculate income tax**\n",
        "---\n",
        "\n",
        "Calculate income tax for the given income by adhering to the rules below\n",
        "\n",
        "Taxable Income\t:\tRate (in %)\n",
        "\n",
        "First $10,000\t:\t0\n",
        "\n",
        "Next $10,000\t:\t10\n",
        "\n",
        "The remaining\t:\t20\n",
        "\n",
        "Expected Output:\n",
        "For example, suppose the income is 45000, and the income tax payable is\n",
        "\n",
        "10000*0% + 10000*10%  + 25000*20% = $6000.\n",
        "\n"
      ],
      "metadata": {
        "id": "-jSIrIt3rreU"
      }
    },
    {
      "cell_type": "code",
      "source": [
        "income = 45000\n",
        "tax_payable = 0\n",
        "print(\"Given income\", income)\n",
        "\n",
        "if income <= 10000:\n",
        "    tax_payable = 0\n",
        "elif income <= 20000:\n",
        "    # no tax on first 10,000\n",
        "    x = income - 10000\n",
        "    # 10% tax\n",
        "    tax_payable = x * 10 / 100\n",
        "else:\n",
        "    # first 10,000\n",
        "    tax_payable = 0\n",
        "\n",
        "    # next 10,000 10% tax\n",
        "    tax_payable = 10000 * 10 / 100\n",
        "\n",
        "    # remaining 20%tax\n",
        "    tax_payable += (income - 20000) * 20 / 100\n",
        "\n",
        "print(\"Total tax to pay is\", tax_payable)"
      ],
      "metadata": {
        "colab": {
          "base_uri": "https://localhost:8080/"
        },
        "id": "Ba-SCu9Hq9Dt",
        "outputId": "e655ef7b-d3a7-4514-a1e0-719b44b7ac04"
      },
      "execution_count": 60,
      "outputs": [
        {
          "output_type": "stream",
          "name": "stdout",
          "text": [
            "Given income 45000\n",
            "Total tax to pay is 6000.0\n"
          ]
        }
      ]
    },
    {
      "cell_type": "markdown",
      "source": [
        "**Exercise 13: Print multiplication table from 1 to 10**\n",
        "Expected Output:\n",
        "\n",
        "```\n",
        "1  2 3 4 5 6 7 8 9 10\n",
        "2  4 6 8 10 12 14 16 18 20\n",
        "3  6 9 12 15 18 21 24 27 30\n",
        "4  8 12 16 20 24 28 32 36 40\n",
        "5  10 15 20 25 30 35 40 45 50\n",
        "6  12 18 24 30 36 42 48 54 60\n",
        "7  14 21 28 35 42 49 56 63 70\n",
        "8  16 24 32 40 48 56 64 72 80\n",
        "9  18 27 36 45 54 63 72 81 90\n",
        "10 20 30 40 50 60 70 80 90 100\n",
        "```\n",
        "\n"
      ],
      "metadata": {
        "id": "Ml4MDseYssys"
      }
    },
    {
      "cell_type": "code",
      "source": [
        "for i in range(1,11):\n",
        "  for j in range(1,11):\n",
        "    print(f\"{i*j}\", end=\" \")\n",
        "  print()"
      ],
      "metadata": {
        "colab": {
          "base_uri": "https://localhost:8080/"
        },
        "id": "lRP50gKTs2Tt",
        "outputId": "6345b2fe-3c65-4cb4-9f5f-00bf9b3edd1c"
      },
      "execution_count": 61,
      "outputs": [
        {
          "output_type": "stream",
          "name": "stdout",
          "text": [
            "1 2 3 4 5 6 7 8 9 10 \n",
            "2 4 6 8 10 12 14 16 18 20 \n",
            "3 6 9 12 15 18 21 24 27 30 \n",
            "4 8 12 16 20 24 28 32 36 40 \n",
            "5 10 15 20 25 30 35 40 45 50 \n",
            "6 12 18 24 30 36 42 48 54 60 \n",
            "7 14 21 28 35 42 49 56 63 70 \n",
            "8 16 24 32 40 48 56 64 72 80 \n",
            "9 18 27 36 45 54 63 72 81 90 \n",
            "10 20 30 40 50 60 70 80 90 100 \n"
          ]
        }
      ]
    },
    {
      "cell_type": "markdown",
      "source": [
        "**Exercise 14: Print a downward half-pyramid pattern of stars**\n",
        "\n",
        "\n",
        "---\n",
        "\n",
        "```\n",
        "* * * * *  \n",
        "* * * *  \n",
        "* * *  \n",
        "* *  \n",
        "*\n",
        "```"
      ],
      "metadata": {
        "id": "mPPIZmx8uDWk"
      }
    },
    {
      "cell_type": "code",
      "source": [
        "n = 5\n",
        "for i in range(n,0,-1):\n",
        "  for j in range(i):\n",
        "    print(\"*\",end=\" \")\n",
        "  print()"
      ],
      "metadata": {
        "colab": {
          "base_uri": "https://localhost:8080/"
        },
        "id": "O4Oe2eMstKHQ",
        "outputId": "e09badc6-d9b6-4975-b4b6-608ef384b279"
      },
      "execution_count": 62,
      "outputs": [
        {
          "output_type": "stream",
          "name": "stdout",
          "text": [
            "* * * * * \n",
            "* * * * \n",
            "* * * \n",
            "* * \n",
            "* \n"
          ]
        }
      ]
    },
    {
      "cell_type": "markdown",
      "source": [
        "**Exercise 15: Get an int value of base raises to the power of exponent**\n",
        "Write a function called exponent(base, exp) that returns an int value of base raises to the power of exp.\n",
        "\n",
        "\n",
        "---\n",
        "\n",
        "\n",
        "Note here exp is a non-negative integer, and the base is an integer.\n",
        "\n",
        "Expected output\n",
        "\n",
        "Case 1:\n",
        "\n",
        "base = 2\n",
        "exponent = 5\n",
        "\n",
        "2 raises to the power of 5: 32 i.e. (2 *2 * 2 *2 *2 = 32)\n",
        "Case 2:\n",
        "\n",
        "base = 5\n",
        "exponent = 4\n",
        "\n",
        "5 raises to the power of 4 is: 625\n",
        "i.e. (5 *5 * 5 *5 = 625)"
      ],
      "metadata": {
        "id": "2cnPI1HCufWl"
      }
    },
    {
      "cell_type": "code",
      "source": [
        "base = 2\n",
        "exponent = 5\n",
        "\n",
        "bs = (str(base) + '*')*(exponent-1) + str(base)\n",
        "\n",
        "print(f\"{2} raises to the power of {exponent}: {base**exponent} i.e. ({bs} = {base**exponent})\")"
      ],
      "metadata": {
        "colab": {
          "base_uri": "https://localhost:8080/"
        },
        "id": "OXmidamgumOY",
        "outputId": "34ba8db1-6395-44b4-a59c-cf05fd4797aa"
      },
      "execution_count": 63,
      "outputs": [
        {
          "output_type": "stream",
          "name": "stdout",
          "text": [
            "2 raises to the power of 5: 32 i.e. (2*2*2*2*2 = 32)\n"
          ]
        }
      ]
    }
  ],
  "metadata": {
    "kernelspec": {
      "display_name": "Python 3",
      "language": "python",
      "name": "python3"
    },
    "language_info": {
      "codemirror_mode": {
        "name": "ipython",
        "version": 3
      },
      "file_extension": ".py",
      "mimetype": "text/x-python",
      "name": "python",
      "nbconvert_exporter": "python",
      "pygments_lexer": "ipython3",
      "version": "3.11.6"
    },
    "colab": {
      "provenance": [],
      "include_colab_link": true
    }
  },
  "nbformat": 4,
  "nbformat_minor": 0
}